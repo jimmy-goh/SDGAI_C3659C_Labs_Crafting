{
 "cells": [
  {
   "attachments": {},
   "cell_type": "markdown",
   "id": "4e1dd8cc-9979-4757-b5f5-21e4d5605d41",
   "metadata": {},
   "source": [
    "<img src=\"https://www.rp.edu.sg/images/default-source/default-album/rp-logo.png\" width=\"200\" alt=\"Republic Polytechnic\"/>\n",
    "\n",
    "[![Open in Colab](https://colab.research.google.com/assets/colab-badge.svg)](https://colab.research.google.com/github/jimmy-goh/SDGAI_C3659C_Labs_Crafting/blob/main/Samples%20for%20Jimmy.ipynb)"
   ]
  },
  {
   "attachments": {},
   "cell_type": "markdown",
   "id": "87e66413-b20b-45dc-88a7-725a8005916d",
   "metadata": {},
   "source": [
    "# Setup and Installation\n",
    "\n",
    "You can run this Jupyter notebook either on your local machine or run it at Google Colab (preferred).\n",
    "\n",
    "* For local machine, it is recommended to install Anaconda and create a new development environment called `c3669c`.\n",
    "* Pip/Conda install the libraries stated below when necessary.\n",
    "---"
   ]
  },
  {
   "attachments": {},
   "cell_type": "markdown",
   "id": "e181688a-e654-416d-b660-d6e876f047e7",
   "metadata": {},
   "source": [
    "# <font color='red'>ATTENTION</font>\n",
    "\n",
    "## Google Colab\n",
    "- If you are running this code in Google Colab, **DO NOT** store the API Key in a text file and load the key later from Google Drive. This is insecure and will expose the key.\n",
    "- **DO NOT** hard code the API Key directly in the Python code, even though it might seem convenient for quick development.\n",
    "- You need to enter the API key at Python code `getpass.getpass()` when ask.\n",
    "\n",
    "## Local Environment/Laptop\n",
    "- If you are running this code locally in your laptop, you can create a env.txt and store the API key there.\n",
    "- Make sure env.txt is in the same directory of this Jupyter notebook.\n",
    "- You need to install `python-dotenv` and run the Python code to load in the API key.\n",
    "\n",
    "---\n",
    "```\n",
    "%pip install python-dotenv\n",
    "\n",
    "from dotenv import load_dotenv\n",
    "\n",
    "load_dotenv('env.tx')\n",
    "openai_api_key = os.getenv('OPENAI_API_KEY')\n",
    "```\n",
    "---\n",
    "\n",
    "## GitHub/GitLab\n",
    "- **DO NOT** `commit` or `push` API Key to services like GitHub or GitLab."
   ]
  },
  {
   "attachments": {},
   "cell_type": "markdown",
   "id": "864e0e74-9750-484e-85a3-0e2df89ab3eb",
   "metadata": {},
   "source": [
    "# Lesson XYZ"
   ]
  },
  {
   "cell_type": "code",
   "execution_count": null,
   "id": "9b7a1281-5590-4f9d-88fc-76185733bf21",
   "metadata": {},
   "outputs": [],
   "source": [
    "%%capture --no-stderr\n",
    "%pip install --quiet -U langchain\n",
    "%pip install --quiet -U langgraph\n",
    "%pip install --quiet -U langchain-openai\n",
    "%pip install --quiet -U langchain-community\n",
    "%pip isntall --quiet -U tavily-python\n",
    "%pip install --quiet -U wikipedia\n",
    "%pip install --quiet -U \"langchain-chroma>=0.1.2\"\n",
    "%pip install --quiet -U pymupdf"
   ]
  },
  {
   "cell_type": "code",
   "execution_count": null,
   "id": "02ed6b64-6afd-49b1-b20d-c0126966cb52",
   "metadata": {},
   "outputs": [],
   "source": [
    "# langchain              0.3.11\n",
    "# langgraph              0.2.59\n",
    "# langchain-core         0.3.24\n",
    "# langchain-openai       0.2.12\n",
    "# langchain-community    0.3.12\n",
    "# openai                 1.57.2\n",
    "# pydantic               2.10.3\n",
    "# tavily-python          0.5.0\n",
    "# wikipedia              1.4.0\n",
    "# chroma                 0.5.23\n",
    "# PyMuPDF                1.25.1"
   ]
  },
  {
   "cell_type": "code",
   "execution_count": null,
   "id": "de84b6a8-289a-49d6-ad78-0e105a5ff503",
   "metadata": {},
   "outputs": [],
   "source": [
    "import getpass\n",
    "import os"
   ]
  },
  {
   "attachments": {},
   "cell_type": "markdown",
   "id": "a3b2c924-3ffd-495a-95f6-5b64468cede9",
   "metadata": {},
   "source": [
    "---"
   ]
  },
  {
   "cell_type": "code",
   "execution_count": null,
   "id": "50983116-5582-4fe0-af1b-210ba617611a",
   "metadata": {},
   "outputs": [],
   "source": [
    "!wget \"https://raw.githubusercontent.com/koayst-rplesson/SDGAI_LLMforGenAIApp_Labs/refs/heads/main/L13/Harry Potter_The Sorcerers Stone.pdf\"\n",
    "!dir"
   ]
  },
  {
   "cell_type": "code",
   "execution_count": null,
   "id": "cc0369c4-4269-4744-8940-4ebcd96603ea",
   "metadata": {},
   "outputs": [],
   "source": []
  }
 ],
 "metadata": {
  "kernelspec": {
   "display_name": "Python 3 (ipykernel)",
   "language": "python",
   "name": "python3"
  },
  "language_info": {
   "codemirror_mode": {
    "name": "ipython",
    "version": 3
   },
   "file_extension": ".py",
   "mimetype": "text/x-python",
   "name": "python",
   "nbconvert_exporter": "python",
   "pygments_lexer": "ipython3",
   "version": "3.9.20"
  }
 },
 "nbformat": 4,
 "nbformat_minor": 5
}
